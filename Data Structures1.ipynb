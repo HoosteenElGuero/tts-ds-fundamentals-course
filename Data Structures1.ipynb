{
 "cells": [
  {
   "cell_type": "code",
   "execution_count": 59,
   "id": "b7e18b33",
   "metadata": {},
   "outputs": [
    {
     "name": "stdout",
     "output_type": "stream",
     "text": [
      "(2.8228756555322954, 0.17712434446770464)\n",
      "Please give an integer1\n",
      "One more integer please2\n",
      "Just one last integer, I promise3\n",
      "529344067295497451\n",
      "[6, 12, 18, 4, 12, 20, 28]\n",
      "List 1 reverse is [8, 45, 11]\n",
      "List 2 reverse is [12, 14, 23]\n",
      "List 3 reverse is [89, 45, 78]\n",
      "[47, 69, 76, 97]\n"
     ]
    }
   ],
   "source": [
    "\"\"\"\n",
    "\n",
    "Exercise 1\n",
    "In mathematics, the quadratic equation ax2+bx+c=0 can be solved with the formula x=−b±b2−4ac√2a.\n",
    "\n",
    "Write a function solve_quadratic, that returns both solutions of a generic quadratic as a pair (2-tuple) when the coefficients are given as parameters. It should work like this:\n",
    "\n",
    "print(solve_quadratic(1,-3,2))\n",
    "(2.0,1.0)\n",
    "print(solve_quadratic(1,2,1))\n",
    "(-1.0,-1.0)\n",
    "You may want to use the math.sqrt function from the math module in your solution. Test that your function works in the main function!\n",
    "\n",
    "\"\"\"\n",
    "\n",
    "import math\n",
    "\n",
    "def solve_quadratic(a, b, c):\n",
    "    x_1 = (-b + math.sqrt(b^2 - (4*a*c)))/(2*a)\n",
    "    x_2 = (-b - math.sqrt(b^2 - (4*a*c)))/(2*a)\n",
    "    return(x_1,x_2)\n",
    "\n",
    "print(solve_quadratic(1,-3,2)) #define inputs a,b,c and display results\n",
    "\n",
    "\"\"\"\n",
    "Exercise 2\n",
    "Get a space-separated list of integers from the user, create a tuple of those integers. Then compute and print the result of hash(tuple).\n",
    "\n",
    "Documentation: hash():\n",
    "\n",
    "\"\"\"\n",
    "\n",
    "x_1=input(\"Please give an integer\")\n",
    "x_2=input(\"One more integer please\")\n",
    "x_3=input(\"Just one last integer, I promise\")\n",
    "\n",
    "x_1=int(x_1) #convert each to int\n",
    "x_2=int(x_2)\n",
    "x_3=int(x_3)\n",
    "\n",
    "x=(x_1,x_2,x_3) #create tuple\n",
    "\n",
    "hash(x) #generate hash\n",
    "print(hash(x))\n",
    "\n",
    "\"\"\"\n",
    "\n",
    "Exercise 3\n",
    "Take the following two lists. Create a third list by picking a odd-index elements from the first list and even-index elements from the second.\n",
    "\n",
    "listOne = [3, 6, 9, 12, 15, 18, 21]\n",
    "listTwo = [4, 8, 12, 16, 20, 24, 28]\n",
    "\"\"\"\n",
    "\n",
    "listOne = [3, 6, 9, 12, 15, 18, 21]\n",
    "listTwo = [4, 8, 12, 16, 20, 24, 28]\n",
    "\n",
    "#select all from first, skip every other (odd)\n",
    "#select all from second, skip every other (even)\n",
    "\n",
    "listThree = listOne[1:7:2]+listTwo[0:7:2] \n",
    "\n",
    "print(listThree)\n",
    "\n",
    "\"\"\"\n",
    "Exercise 4\n",
    "Take the following list. Slice it into three equal chunks and reverse each list.\n",
    "\n",
    "sampleList = [11, 45, 8, 23, 14, 12, 78, 45, 89]\n",
    "\n",
    "\"\"\"\n",
    "\n",
    "sampleList = [11, 45, 8, 23, 14, 12, 78, 45, 89] #slice into three chunks of three elements\n",
    "\n",
    "list_1=sampleList[0:3]\n",
    "list_1_rev=list_1[::-1] #reversing using slicing operator\n",
    "\n",
    "list_2=sampleList[3:6]\n",
    "list_2_rev=list_2[::-1] #reversing using slicing operator\n",
    "\n",
    "list_3=sampleList[6:9]\n",
    "list_3_rev=list_3[::-1] #reversing using slicing operator\n",
    "\n",
    "\n",
    "print(\"List 1 reverse is\",list_1_rev)\n",
    "print(\"List 2 reverse is\",list_2_rev)\n",
    "print(\"List 3 reverse is\",list_3_rev)\n",
    "\n",
    "\"\"\"\n",
    "Exercise 5\n",
    "Iterate through a given list and check if a given element already exists in a dictionary as a key’s value. If not, delete it from the list.\n",
    "\n",
    "rollNumber = [47, 64, 69, 37, 76, 83, 95, 97]\n",
    "sampleDict ={'Zach':47, 'Emma':69, 'Kelly':76, 'Jason':97}\n",
    "\"\"\"\n",
    "\n",
    "rollNumber = [47, 64, 69, 37, 76, 83, 95, 97]\n",
    "sampleDict ={'Zach':47, 'Emma':69, 'Kelly':76, 'Jason':97}\n",
    "\n",
    "i=0\n",
    "while i < len(rollNumber): #check each element in list starting with first element\n",
    "    if rollNumber[i] in sampleDict.values():\n",
    "        i=i+1 #skip and move to next list item\n",
    "    else:\n",
    "        del rollNumber[i] #delete that item from list. repeat same i value\n",
    "        \n",
    "print(rollNumber)"
   ]
  },
  {
   "cell_type": "code",
   "execution_count": 52,
   "id": "3bd0f47c",
   "metadata": {},
   "outputs": [
    {
     "data": {
      "text/plain": [
       "-3.5612505430061843"
      ]
     },
     "execution_count": 52,
     "metadata": {},
     "output_type": "execute_result"
    }
   ],
   "source": [
    "import math\n",
    "(-5 + math.sqrt(5^2 - (4*2*-25))/(2*5))"
   ]
  },
  {
   "cell_type": "code",
   "execution_count": 47,
   "id": "546cc66c",
   "metadata": {},
   "outputs": [
    {
     "data": {
      "text/plain": [
       "-2"
      ]
     },
     "execution_count": 47,
     "metadata": {},
     "output_type": "execute_result"
    }
   ],
   "source": [
    "-2"
   ]
  },
  {
   "cell_type": "code",
   "execution_count": 49,
   "id": "ddf8dc65",
   "metadata": {},
   "outputs": [
    {
     "data": {
      "text/plain": [
       "2.0"
      ]
     },
     "execution_count": 49,
     "metadata": {},
     "output_type": "execute_result"
    }
   ],
   "source": [
    "import math\n",
    "math.sqrt(4)"
   ]
  },
  {
   "cell_type": "code",
   "execution_count": null,
   "id": "90dd4538",
   "metadata": {},
   "outputs": [],
   "source": []
  },
  {
   "cell_type": "code",
   "execution_count": null,
   "id": "e6a7e93e",
   "metadata": {},
   "outputs": [],
   "source": []
  }
 ],
 "metadata": {
  "kernelspec": {
   "display_name": "Python 3 (ipykernel)",
   "language": "python",
   "name": "python3"
  },
  "language_info": {
   "codemirror_mode": {
    "name": "ipython",
    "version": 3
   },
   "file_extension": ".py",
   "mimetype": "text/x-python",
   "name": "python",
   "nbconvert_exporter": "python",
   "pygments_lexer": "ipython3",
   "version": "3.9.12"
  }
 },
 "nbformat": 4,
 "nbformat_minor": 5
}
