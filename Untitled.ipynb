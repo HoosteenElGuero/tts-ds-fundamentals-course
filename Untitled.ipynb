{
 "cells": [
  {
   "cell_type": "code",
   "execution_count": 8,
   "id": "ac228ea5",
   "metadata": {},
   "outputs": [
    {
     "name": "stdout",
     "output_type": "stream",
     "text": [
      "F\n"
     ]
    }
   ],
   "source": [
    "\n",
    "grade_val=22\n",
    "\n",
    "if grade_val < 60: grade = \"F\"\n",
    "elif grade_val >= 60 and grade_val < 70: grade = \"D\" \n",
    "elif grade_val >= 70 and grade_val < 80: grade = \"C\"\n",
    "elif grade_val >= 80 and grade_val < 90: grade = \"B\"\n",
    "elif grade_val >= 90 and grade_val < 100: grade = \"A\"\n",
    "else: print(\"Justin, wtf did you do\")\n",
    "\n",
    "print(grade)"
   ]
  },
  {
   "cell_type": "code",
   "execution_count": null,
   "id": "b00f06f9",
   "metadata": {},
   "outputs": [],
   "source": []
  }
 ],
 "metadata": {
  "kernelspec": {
   "display_name": "Python 3 (ipykernel)",
   "language": "python",
   "name": "python3"
  },
  "language_info": {
   "codemirror_mode": {
    "name": "ipython",
    "version": 3
   },
   "file_extension": ".py",
   "mimetype": "text/x-python",
   "name": "python",
   "nbconvert_exporter": "python",
   "pygments_lexer": "ipython3",
   "version": "3.9.12"
  }
 },
 "nbformat": 4,
 "nbformat_minor": 5
}
