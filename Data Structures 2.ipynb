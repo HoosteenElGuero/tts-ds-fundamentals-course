{
 "cells": [
  {
   "cell_type": "code",
   "execution_count": 3,
   "id": "1916930e",
   "metadata": {},
   "outputs": [
    {
     "name": "stdout",
     "output_type": "stream",
     "text": [
      "Please give an integer1\n",
      "One more integer please2\n",
      "Just one last integer, I promise3\n"
     ]
    },
    {
     "data": {
      "text/plain": [
       "529344067295497451"
      ]
     },
     "execution_count": 3,
     "metadata": {},
     "output_type": "execute_result"
    }
   ],
   "source": [
    "\"\"\"\n",
    "Exercise 2\n",
    "Get a space-separated list of integers from the user, create a tuple of those integers. Then compute and print the result of hash(tuple).\n",
    "\n",
    "Documentation: hash():\n",
    "\n",
    "\"\"\"\n",
    "\n",
    "x_1=input(\"Please give an integer\")\n",
    "x_2=input(\"One more integer please\")\n",
    "x_3=input(\"Just one last integer, I promise\")\n",
    "\n",
    "x_1=int(x_1) #convert each to int\n",
    "x_2=int(x_2)\n",
    "x_3=int(x_3)\n",
    "\n",
    "x=(x_1,x_2,x_3) #create tuple\n",
    "\n",
    "hash(x) #generate hash"
   ]
  },
  {
   "cell_type": "code",
   "execution_count": null,
   "id": "8a503dec",
   "metadata": {},
   "outputs": [],
   "source": []
  }
 ],
 "metadata": {
  "kernelspec": {
   "display_name": "Python 3 (ipykernel)",
   "language": "python",
   "name": "python3"
  },
  "language_info": {
   "codemirror_mode": {
    "name": "ipython",
    "version": 3
   },
   "file_extension": ".py",
   "mimetype": "text/x-python",
   "name": "python",
   "nbconvert_exporter": "python",
   "pygments_lexer": "ipython3",
   "version": "3.9.12"
  }
 },
 "nbformat": 4,
 "nbformat_minor": 5
}
