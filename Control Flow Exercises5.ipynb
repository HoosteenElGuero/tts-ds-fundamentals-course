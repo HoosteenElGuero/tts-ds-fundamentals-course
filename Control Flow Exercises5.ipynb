{
 "cells": [
  {
   "cell_type": "code",
   "execution_count": 11,
   "id": "9937f2d9",
   "metadata": {},
   "outputs": [
    {
     "name": "stdout",
     "output_type": "stream",
     "text": [
      "Tell me an integer-51\n",
      "-51\n",
      "Weird\n"
     ]
    }
   ],
   "source": [
    "\"\"\"\n",
    "Exercise 5\n",
    "\n",
    "Get an integer N from the user and perform the following actions:\n",
    "\n",
    "if N is odd, print \"weird\"\n",
    "if N is even and in the inclusive range of 2 to 5, print \"Not Weird\"\n",
    "if N is even and in the inclusive range of 6 to 20, print \"Weird\"\n",
    "if N is even and greater than 20, print \"Not Weird\n",
    "\"\"\"\n",
    "\n",
    "integ=input(\"Tell me an integer\")\n",
    "integ=int(integ)\n",
    "print(integ)\n",
    "\n",
    "#odd/even test: modulo. If remainder = 0, even. Else odd: (integ %2) != 0\n",
    "\n",
    "if (integ %2) !=0: print(\"Weird\")\n",
    "elif (integ %2) == 0 and integ>=2 and integ<=5: print(\"not Weird\")\n",
    "elif (integ %2) == 0 and integ<=20 and integ>=6: print(\"Weird\")\n",
    "elif (integ %2) == 0 and integ>=20: print(\"not Weird\")\n",
    "else: print(\"Justin, what did you screw up\") #put this here for myself in case the logic didn't work out somehow"
   ]
  },
  {
   "cell_type": "code",
   "execution_count": null,
   "id": "94a731ec",
   "metadata": {},
   "outputs": [],
   "source": []
  },
  {
   "cell_type": "code",
   "execution_count": null,
   "id": "34a3fc70",
   "metadata": {},
   "outputs": [],
   "source": []
  }
 ],
 "metadata": {
  "kernelspec": {
   "display_name": "Python 3 (ipykernel)",
   "language": "python",
   "name": "python3"
  },
  "language_info": {
   "codemirror_mode": {
    "name": "ipython",
    "version": 3
   },
   "file_extension": ".py",
   "mimetype": "text/x-python",
   "name": "python",
   "nbconvert_exporter": "python",
   "pygments_lexer": "ipython3",
   "version": "3.9.12"
  }
 },
 "nbformat": 4,
 "nbformat_minor": 5
}
