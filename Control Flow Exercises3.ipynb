{
 "cells": [
  {
   "cell_type": "code",
   "execution_count": 6,
   "id": "0e60db45",
   "metadata": {},
   "outputs": [
    {
     "name": "stdout",
     "output_type": "stream",
     "text": [
      "Tell me the age of person 15\n",
      "Tell me the age of person 22\n",
      "Tell me the age of person 36\n",
      "Person 3 is the oldest, at age 6\n",
      "Person 2 is the youngest, at age 2\n"
     ]
    }
   ],
   "source": [
    "\"\"\"\n",
    "Exercise 3\n",
    "Get input of the age of 3 people by user and determine oldest and youngest among them\n",
    "\"\"\"\n",
    "\n",
    "p1 = input(\"Tell me the age of person 1\")\n",
    "p2 = input(\"Tell me the age of person 2\")\n",
    "p3 = input(\"Tell me the age of person 3\")\n",
    "\n",
    "p1=int(p1)\n",
    "p2=int(p2)\n",
    "p3=int(p3)\n",
    "\n",
    "\"\"\"\n",
    "Logic:\n",
    "check if p1 older than p2, then if p1 older than p3. If yes to second argument, p1 oldest. If no to second argument, p3 oldest\n",
    "if p2 older than p1, check if p2 older than p3. If yes to second argument, p2 oldest. If no to second argument, p3 oldest\n",
    "\"\"\"\n",
    "\n",
    "if p1>p2:\n",
    "    if p1>p3: print(\"Person 1 is the oldest, at age\",p1)\n",
    "    else: print (\"Person 3 is the oldest, at age\",p3)\n",
    "elif p2>p3: print('Person 2 is the oldest, at age',p2)\n",
    "else: print(\"Person 3 is the oldest, at age\",p3)\n",
    "\n",
    "    \n",
    "if p1<p2:\n",
    "    if p1<p3: print(\"Person 1 is the youngest, at age\",p1)\n",
    "    else: print (\"Person 3 is the youngest, at age\",p3)\n",
    "elif p2<p3: print('Person 2 is the youngest, at age',p2)\n",
    "else: print(\"Person 3 is the youngest, at age\",p3)"
   ]
  },
  {
   "cell_type": "code",
   "execution_count": null,
   "id": "823dd7d7",
   "metadata": {},
   "outputs": [],
   "source": []
  },
  {
   "cell_type": "code",
   "execution_count": null,
   "id": "90ba1588",
   "metadata": {},
   "outputs": [],
   "source": []
  }
 ],
 "metadata": {
  "kernelspec": {
   "display_name": "Python 3 (ipykernel)",
   "language": "python",
   "name": "python3"
  },
  "language_info": {
   "codemirror_mode": {
    "name": "ipython",
    "version": 3
   },
   "file_extension": ".py",
   "mimetype": "text/x-python",
   "name": "python",
   "nbconvert_exporter": "python",
   "pygments_lexer": "ipython3",
   "version": "3.9.12"
  }
 },
 "nbformat": 4,
 "nbformat_minor": 5
}
