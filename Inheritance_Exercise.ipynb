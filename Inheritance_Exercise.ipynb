{
 "cells": [
  {
   "cell_type": "code",
   "execution_count": 1,
   "id": "63d3c81d",
   "metadata": {},
   "outputs": [],
   "source": [
    "# define the Vehicle class\n",
    "\n",
    "class Person:\n",
    "    fname = \"\"\n",
    "    lname = \"\"\n",
    "    def desc(self):\n",
    "        desc_person = \"%s %s is a person.\" % (self.fname, self.lname)\n",
    "        return desc_person\n",
    "\n",
    "class Student(Person):\n",
    "      def desc(self):\n",
    "          desc_person = \"%s %s is a student.\" % (self.fname, self.lname)\n",
    "          return desc_person\n",
    "        \n",
    "class Grades(Student):\n",
    "      def desc(self):\n",
    "           desc_person = \"%s %s has grades.\" % (self.fname, self.lname)\n",
    "           return desc_person"
   ]
  },
  {
   "cell_type": "code",
   "execution_count": 51,
   "id": "2897d667",
   "metadata": {},
   "outputs": [],
   "source": [
    "# define sub class student\n",
    "class Student(Person):\n",
    "    def __init__(self, fname, lname, scores):\n",
    "        super().__init__()\n",
    "        self.scores = scores\n",
    "        #defining method of calculating grade from scores\n",
    "    def calculate(self, scores):\n",
    "        grade_val = sum(scores)/len(scores)\n",
    "        if grade_val < 60: grade = \"F\"\n",
    "        elif grade_val >= 60 and grade_val < 70: grade = \"D\" \n",
    "        elif grade_val >= 70 and grade_val < 80: grade = \"C\"\n",
    "        elif grade_val >= 80 and grade_val < 90: grade = \"B\"\n",
    "        elif grade_val >= 90 and grade_val <= 100: grade = \"A\"\n",
    "        else: print(\"Justin, wtf did you do\")\n",
    "        print(grade)\n",
    "            "
   ]
  },
  {
   "cell_type": "code",
   "execution_count": 52,
   "id": "3df46403",
   "metadata": {},
   "outputs": [],
   "source": [
    "gary=Student(\"Gary\",\"Jackson\",[70,83,90])"
   ]
  },
  {
   "cell_type": "code",
   "execution_count": 53,
   "id": "b481f822",
   "metadata": {},
   "outputs": [
    {
     "name": "stdout",
     "output_type": "stream",
     "text": [
      "B\n"
     ]
    }
   ],
   "source": [
    "gary.calculate(gary.scores)"
   ]
  },
  {
   "cell_type": "code",
   "execution_count": 45,
   "id": "99bcca1b",
   "metadata": {},
   "outputs": [
    {
     "name": "stdout",
     "output_type": "stream",
     "text": [
      "[70, 83, 90]\n"
     ]
    }
   ],
   "source": [
    "print(gary.scores)"
   ]
  },
  {
   "cell_type": "code",
   "execution_count": null,
   "id": "efc49d3b",
   "metadata": {},
   "outputs": [],
   "source": []
  }
 ],
 "metadata": {
  "kernelspec": {
   "display_name": "Python 3 (ipykernel)",
   "language": "python",
   "name": "python3"
  },
  "language_info": {
   "codemirror_mode": {
    "name": "ipython",
    "version": 3
   },
   "file_extension": ".py",
   "mimetype": "text/x-python",
   "name": "python",
   "nbconvert_exporter": "python",
   "pygments_lexer": "ipython3",
   "version": "3.9.12"
  }
 },
 "nbformat": 4,
 "nbformat_minor": 5
}
