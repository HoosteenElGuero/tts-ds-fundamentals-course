{
 "cells": [
  {
   "cell_type": "code",
   "execution_count": 1,
   "id": "42272981",
   "metadata": {},
   "outputs": [],
   "source": [
    "var_1 = 45"
   ]
  },
  {
   "cell_type": "code",
   "execution_count": 2,
   "id": "54db234a",
   "metadata": {},
   "outputs": [
    {
     "name": "stdout",
     "output_type": "stream",
     "text": [
      "Var_1 is greater than Var_2\n"
     ]
    }
   ],
   "source": [
    "var_2=4.5\n",
    "if var_1>var_2:\n",
    "    print(\"Var_1 is greater than Var_2\")"
   ]
  },
  {
   "cell_type": "code",
   "execution_count": 3,
   "id": "c6440dd9",
   "metadata": {},
   "outputs": [
    {
     "ename": "NameError",
     "evalue": "name 'x' is not defined",
     "output_type": "error",
     "traceback": [
      "\u001b[1;31m---------------------------------------------------------------------------\u001b[0m",
      "\u001b[1;31mNameError\u001b[0m                                 Traceback (most recent call last)",
      "Input \u001b[1;32mIn [3]\u001b[0m, in \u001b[0;36m<cell line: 1>\u001b[1;34m()\u001b[0m\n\u001b[1;32m----> 1\u001b[0m \u001b[38;5;28mtype\u001b[39m(\u001b[43mx\u001b[49m)\n",
      "\u001b[1;31mNameError\u001b[0m: name 'x' is not defined"
     ]
    }
   ],
   "source": []
  },
  {
   "cell_type": "code",
   "execution_count": 11,
   "id": "2e36a732",
   "metadata": {},
   "outputs": [
    {
     "name": "stdout",
     "output_type": "stream",
     "text": [
      "They are equal\n"
     ]
    }
   ],
   "source": [
    "var_1 = 4.5\n",
    "var_2 = 4.5\n",
    "if var_1>var_2:\n",
    "    print(\"Var_1 is greater than Var_2\")\n",
    "elif var_2>var_1:\n",
    "    print(\"Var_2 is greater than Var_1\")\n",
    "else:\n",
    "    print(\"They are equal\")"
   ]
  },
  {
   "cell_type": "code",
   "execution_count": 14,
   "id": "43da476f",
   "metadata": {},
   "outputs": [],
   "source": [
    "my_list = ['x', 'y', 'z']"
   ]
  },
  {
   "cell_type": "code",
   "execution_count": 15,
   "id": "ecd1eda1",
   "metadata": {},
   "outputs": [
    {
     "name": "stdout",
     "output_type": "stream",
     "text": [
      "x\n"
     ]
    }
   ],
   "source": [
    "print(my_list[0])"
   ]
  },
  {
   "cell_type": "code",
   "execution_count": 17,
   "id": "efefcde3",
   "metadata": {},
   "outputs": [
    {
     "name": "stdout",
     "output_type": "stream",
     "text": [
      "z\n"
     ]
    }
   ],
   "source": [
    "print(my_list[-1]) "
   ]
  },
  {
   "cell_type": "code",
   "execution_count": 18,
   "id": "cccd3722",
   "metadata": {},
   "outputs": [],
   "source": [
    "my_set = {1, 2, 3, 4, 5}"
   ]
  },
  {
   "cell_type": "code",
   "execution_count": 19,
   "id": "7c3b4bdc",
   "metadata": {},
   "outputs": [
    {
     "name": "stdout",
     "output_type": "stream",
     "text": [
      "{1, 2, 3, 4, 5}\n"
     ]
    }
   ],
   "source": [
    "print(my_set)"
   ]
  },
  {
   "cell_type": "code",
   "execution_count": 23,
   "id": "53e1fc81",
   "metadata": {},
   "outputs": [
    {
     "name": "stdout",
     "output_type": "stream",
     "text": [
      "1\n",
      "2\n",
      "3\n",
      "4\n",
      "5\n"
     ]
    }
   ],
   "source": [
    "for i in my_set:\n",
    "    print(i)"
   ]
  },
  {
   "cell_type": "code",
   "execution_count": 26,
   "id": "35002d3b",
   "metadata": {},
   "outputs": [],
   "source": [
    "my_dictionary = {'One':1,'Two':2,'Three':3,'Four':4}"
   ]
  },
  {
   "cell_type": "code",
   "execution_count": 27,
   "id": "7f67da8e",
   "metadata": {},
   "outputs": [
    {
     "name": "stdout",
     "output_type": "stream",
     "text": [
      "{'One': 1, 'Two': 2, 'Three': 3, 'Four': 4}\n"
     ]
    }
   ],
   "source": [
    "print(my_dictionary)"
   ]
  },
  {
   "cell_type": "code",
   "execution_count": 28,
   "id": "1f000b6e",
   "metadata": {},
   "outputs": [
    {
     "data": {
      "text/plain": [
       "1"
      ]
     },
     "execution_count": 28,
     "metadata": {},
     "output_type": "execute_result"
    }
   ],
   "source": [
    "my_dictionary[\"One\"]"
   ]
  },
  {
   "cell_type": "code",
   "execution_count": 29,
   "id": "ab1810f0",
   "metadata": {},
   "outputs": [
    {
     "name": "stdout",
     "output_type": "stream",
     "text": [
      "One\n",
      "Two\n",
      "Three\n",
      "Four\n"
     ]
    }
   ],
   "source": [
    "for i in my_dictionary.keys():\n",
    "    print(i)"
   ]
  },
  {
   "cell_type": "code",
   "execution_count": 30,
   "id": "ef6cf9ba",
   "metadata": {},
   "outputs": [],
   "source": [
    "my_tuple = (1, 2, 3, 4)"
   ]
  },
  {
   "cell_type": "code",
   "execution_count": null,
   "id": "0b9606d7",
   "metadata": {},
   "outputs": [],
   "source": [
    "i=0\n",
    "while i < len(int_list):\n",
    "    print(int_list[i])\n",
    "    i+=1"
   ]
  },
  {
   "cell_type": "code",
   "execution_count": 32,
   "id": "eaf8df0b",
   "metadata": {},
   "outputs": [],
   "source": [
    "int_list = [1, 2, 3]\n"
   ]
  },
  {
   "cell_type": "code",
   "execution_count": 34,
   "id": "65cd5863",
   "metadata": {},
   "outputs": [
    {
     "name": "stdout",
     "output_type": "stream",
     "text": [
      "1\n",
      "2\n",
      "3\n"
     ]
    }
   ],
   "source": [
    "i=0\n",
    "while i < len(int_list):\n",
    "    print(int_list[i])\n",
    "    i += 1"
   ]
  },
  {
   "cell_type": "code",
   "execution_count": null,
   "id": "bc767953",
   "metadata": {},
   "outputs": [],
   "source": []
  }
 ],
 "metadata": {
  "kernelspec": {
   "display_name": "Python 3 (ipykernel)",
   "language": "python",
   "name": "python3"
  },
  "language_info": {
   "codemirror_mode": {
    "name": "ipython",
    "version": 3
   },
   "file_extension": ".py",
   "mimetype": "text/x-python",
   "name": "python",
   "nbconvert_exporter": "python",
   "pygments_lexer": "ipython3",
   "version": "3.9.12"
  }
 },
 "nbformat": 4,
 "nbformat_minor": 5
}
