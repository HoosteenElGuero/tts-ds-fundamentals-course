{
 "cells": [
  {
   "cell_type": "code",
   "execution_count": 13,
   "id": "eccaa9c1",
   "metadata": {},
   "outputs": [],
   "source": [
    "class Grocery_Store: #class <Name_of_Class>\n",
    "    def __init__(self, name, number_of_registers, square_footage, number_of_aisles, number_of_employees): #Constructor (two underscores \"dunder\") (self, then attributes)\n",
    "        #Instance/Object Attributes -- attributes vary by object (need to be included in arguments after init)\n",
    "        self.name = name\n",
    "        self.number_of_registers = number_of_registers\n",
    "        self.square_footage = square_footage\n",
    "        self.number_of_aisles = number_of_aisles\n",
    "        self.number_of_employees = number_of_employees\n",
    "        #Class attributes -- attributes vary by class (don't need to be included in arguments after init)\n",
    "        self.store_hours = \"24/7\"\n",
    "        #Methods\n",
    "    def hire_employees(self):\n",
    "        number_of_employees_hired = int(input(\"How many employees did you hire?\"))\n",
    "        self.number_of_employees += number_of_employees_hired\n",
    "    def fire_employees(self):\n",
    "        number_of_employees_fired = int(input(\"How many employees did you fire?\"))\n",
    "        self.number_of_employees -= number_of_employees_fired #reduce number of employees"
   ]
  },
  {
   "cell_type": "code",
   "execution_count": 14,
   "id": "74b1137a",
   "metadata": {},
   "outputs": [],
   "source": [
    "#Instantiate an object/Create an object from a class\n",
    "win_co = Grocery_Store(\"Winco\", 6, 1200, 12, 20) #name_of_object = name_of_class(attr1, attr2, etc)\n",
    "win_co2 = Grocery_Store(24, 7, \"Twelve hundred\", \"Twelve\", \"Twenty\")"
   ]
  },
  {
   "cell_type": "code",
   "execution_count": 15,
   "id": "abaae7d0",
   "metadata": {},
   "outputs": [
    {
     "name": "stdout",
     "output_type": "stream",
     "text": [
      "How many employees did you hire?100\n"
     ]
    }
   ],
   "source": [
    "win_co.hire_employees()"
   ]
  },
  {
   "cell_type": "code",
   "execution_count": 16,
   "id": "bfc3dc43",
   "metadata": {},
   "outputs": [
    {
     "data": {
      "text/plain": [
       "120"
      ]
     },
     "execution_count": 16,
     "metadata": {},
     "output_type": "execute_result"
    }
   ],
   "source": [
    "win_co.number_of_employees #display attribute for object"
   ]
  },
  {
   "cell_type": "code",
   "execution_count": null,
   "id": "2c6f3fd4",
   "metadata": {},
   "outputs": [],
   "source": [
    "#Inheritance\n",
    "#Code Reuse\n",
    "#Code Readability\n",
    "#The child class Big_Box_Store is inheriting from the Grocery_Store class\n",
    "class Box_Box_Store(Grocery_Store):\n",
    "    def __init__(self,name,number_of_registers,square_footage,number_of_aisles,number_of_employees,number_of_departments)\n",
    "        super().__init__(name,number_of_registers,square_footage,number_of_aisles,number_of_employees)\n",
    "            self.number_of_departments = number_of_departments"
   ]
  }
 ],
 "metadata": {
  "kernelspec": {
   "display_name": "Python 3 (ipykernel)",
   "language": "python",
   "name": "python3"
  },
  "language_info": {
   "codemirror_mode": {
    "name": "ipython",
    "version": 3
   },
   "file_extension": ".py",
   "mimetype": "text/x-python",
   "name": "python",
   "nbconvert_exporter": "python",
   "pygments_lexer": "ipython3",
   "version": "3.9.12"
  }
 },
 "nbformat": 4,
 "nbformat_minor": 5
}
