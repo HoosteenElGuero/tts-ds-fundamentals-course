{
 "cells": [
  {
   "cell_type": "code",
   "execution_count": 17,
   "id": "f5450f26",
   "metadata": {},
   "outputs": [
    {
     "name": "stdout",
     "output_type": "stream",
     "text": [
      "Enter password and I'll tell you how much it sucksaaaAAA###5\n",
      "nice\n"
     ]
    }
   ],
   "source": [
    "\"\"\"\n",
    "Exercise 2\n",
    "Check the validity of password input by the user.\n",
    "\n",
    "Validation:\n",
    "\n",
    "At least 1 letter between [a-z] and 1 letter between [A-Z]\n",
    "At least 1 number between [0-9]\n",
    "At least 1 character from [$#@]\n",
    "Minimum length 6 characters\n",
    "Maximum length 16 characters\n",
    "\"\"\"\n",
    "\n",
    "specialChars = [\"$\",\"#\",\"@\"]\n",
    "\n",
    "\n",
    "pasw=input(\"Enter password and I'll tell you how much it sucks\")\n",
    "\n",
    "if len(pasw) > 6: #check for length > 6\n",
    "    if len(pasw) < 16: #check for lenght <16\n",
    "        if any(char.isdigit() for char in pasw): #check if any numbers in password\n",
    "            if any(substring in pasw for substring in specialChars): #check if any entries from special characters list in password\n",
    "                if any(ele.isupper() for ele in pasw): #check if any uppercase letters in password\n",
    "                    if any(ele.islower() for ele in pasw): #check if any lowercase letters in password\n",
    "                        print(\"nice\") #end state: all conditions met\n",
    "                    else: print(\"Need a lowercase letter\")\n",
    "                else: print (\"Need an uppercase letter\")\n",
    "            else: print(\"Need a special character\")\n",
    "        else: print(\"need a number, bruh\")\n",
    "    else: print(\"Too long\")\n",
    "else: print(\"Too short\")"
   ]
  },
  {
   "cell_type": "code",
   "execution_count": null,
   "id": "3f481d2e",
   "metadata": {},
   "outputs": [],
   "source": []
  },
  {
   "cell_type": "code",
   "execution_count": null,
   "id": "cada5202",
   "metadata": {},
   "outputs": [],
   "source": []
  }
 ],
 "metadata": {
  "kernelspec": {
   "display_name": "Python 3 (ipykernel)",
   "language": "python",
   "name": "python3"
  },
  "language_info": {
   "codemirror_mode": {
    "name": "ipython",
    "version": 3
   },
   "file_extension": ".py",
   "mimetype": "text/x-python",
   "name": "python",
   "nbconvert_exporter": "python",
   "pygments_lexer": "ipython3",
   "version": "3.9.12"
  }
 },
 "nbformat": 4,
 "nbformat_minor": 5
}
