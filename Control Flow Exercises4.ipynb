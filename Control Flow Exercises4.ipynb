{
 "cells": [
  {
   "cell_type": "code",
   "execution_count": 3,
   "id": "f29430ec",
   "metadata": {},
   "outputs": [
    {
     "name": "stdout",
     "output_type": "stream",
     "text": [
      "How many classes have been held?10\n",
      "How many classes has student attended?9\n",
      "Attendance ratio: 0.9\n",
      "Student is allowed to sit in exam\n"
     ]
    }
   ],
   "source": [
    "\"\"\"\n",
    "Exercise 4\n",
    "A student will not be allowed to sit in exam if his/her attendance is less than 75%.\n",
    "\n",
    "Take following input from user\n",
    "\n",
    "Number of classes held\n",
    "Number of classes attended.\n",
    "And print\n",
    "percentage of class attended\n",
    "Is student is allowed to sit in exam or not?\n",
    "\"\"\"\n",
    "\n",
    "held = input(\"How many classes have been held?\")\n",
    "attended = input(\"How many classes has student attended?\")\n",
    "\n",
    "percent=int(attended)/int(held)\n",
    "print(\"Attendance ratio:\",percent)\n",
    "\n",
    "if percent>=0.75: print(\"Student is allowed to sit in exam\")\n",
    "else: print(\"Student is not allowed to sit in exam\")"
   ]
  },
  {
   "cell_type": "code",
   "execution_count": null,
   "id": "51a03628",
   "metadata": {},
   "outputs": [],
   "source": []
  }
 ],
 "metadata": {
  "kernelspec": {
   "display_name": "Python 3 (ipykernel)",
   "language": "python",
   "name": "python3"
  },
  "language_info": {
   "codemirror_mode": {
    "name": "ipython",
    "version": 3
   },
   "file_extension": ".py",
   "mimetype": "text/x-python",
   "name": "python",
   "nbconvert_exporter": "python",
   "pygments_lexer": "ipython3",
   "version": "3.9.12"
  }
 },
 "nbformat": 4,
 "nbformat_minor": 5
}
