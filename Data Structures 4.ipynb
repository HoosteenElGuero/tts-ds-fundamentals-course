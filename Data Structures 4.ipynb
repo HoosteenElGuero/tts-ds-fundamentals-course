{
 "cells": [
  {
   "cell_type": "code",
   "execution_count": 12,
   "id": "e2e0c64a",
   "metadata": {},
   "outputs": [
    {
     "name": "stdout",
     "output_type": "stream",
     "text": [
      "List 1 reverse is [8, 45, 11]\n",
      "List 2 reverse is [12, 14, 23]\n",
      "List 3 reverse is [89, 45, 78]\n"
     ]
    }
   ],
   "source": [
    "\"\"\"\n",
    "Exercise 4\n",
    "Take the following list. Slice it into three equal chunks and reverse each list.\n",
    "\n",
    "sampleList = [11, 45, 8, 23, 14, 12, 78, 45, 89]\n",
    "\n",
    "\"\"\"\n",
    "\n",
    "sampleList = [11, 45, 8, 23, 14, 12, 78, 45, 89] #slice into three chunks of three elements\n",
    "\n",
    "list_1=sampleList[0:3]\n",
    "list_1_rev=list_1[::-1] #reversing using slicing operator\n",
    "\n",
    "list_2=sampleList[3:6]\n",
    "list_2_rev=list_2[::-1] #reversing using slicing operator\n",
    "\n",
    "list_3=sampleList[6:9]\n",
    "list_3_rev=list_3[::-1] #reversing using slicing operator\n",
    "\n",
    "\n",
    "print(\"List 1 reverse is\",list_1_rev)\n",
    "print(\"List 2 reverse is\",list_2_rev)\n",
    "print(\"List 3 reverse is\",list_3_rev)"
   ]
  },
  {
   "cell_type": "code",
   "execution_count": null,
   "id": "7341dec2",
   "metadata": {},
   "outputs": [],
   "source": []
  }
 ],
 "metadata": {
  "kernelspec": {
   "display_name": "Python 3 (ipykernel)",
   "language": "python",
   "name": "python3"
  },
  "language_info": {
   "codemirror_mode": {
    "name": "ipython",
    "version": 3
   },
   "file_extension": ".py",
   "mimetype": "text/x-python",
   "name": "python",
   "nbconvert_exporter": "python",
   "pygments_lexer": "ipython3",
   "version": "3.9.12"
  }
 },
 "nbformat": 4,
 "nbformat_minor": 5
}
